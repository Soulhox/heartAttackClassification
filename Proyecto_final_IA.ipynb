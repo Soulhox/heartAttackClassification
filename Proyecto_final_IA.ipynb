{
  "nbformat": 4,
  "nbformat_minor": 0,
  "metadata": {
    "colab": {
      "name": "Proyecto final - IA",
      "provenance": [],
      "collapsed_sections": [],
      "toc_visible": true,
      "include_colab_link": true
    },
    "kernelspec": {
      "display_name": "Python 3",
      "name": "python3"
    },
    "language_info": {
      "name": "python"
    }
  },
  "cells": [
    {
      "cell_type": "markdown",
      "metadata": {
        "id": "view-in-github",
        "colab_type": "text"
      },
      "source": [
        "<a href=\"https://colab.research.google.com/github/Soulhox/heartAttackClassification/blob/main/Proyecto_final_IA.ipynb\" target=\"_parent\"><img src=\"https://colab.research.google.com/assets/colab-badge.svg\" alt=\"Open In Colab\"/></a>"
      ]
    },
    {
      "cell_type": "markdown",
      "metadata": {
        "id": "2jVU_EaH8_qA"
      },
      "source": [
        "1. Imports utilizados"
      ]
    },
    {
      "cell_type": "code",
      "metadata": {
        "id": "mqqpeNKHDQB4"
      },
      "source": [
        "import pandas as pd\n",
        "import numpy as np\n",
        "import matplotlib.pyplot as plt\n",
        "from matplotlib.colors import ListedColormap\n",
        "import matplotlib.patches as mpatches\n",
        "import seaborn as sns\n",
        "import sklearn\n",
        "from sklearn.datasets import load_iris\n",
        "from sklearn.linear_model import LogisticRegression\n",
        "from sklearn.model_selection import train_test_split\n",
        "from sklearn.metrics import confusion_matrix\n",
        "from sklearn import metrics\n",
        "from sklearn.metrics import matthews_corrcoef\n",
        "from sklearn.preprocessing import minmax_scale\n",
        "from sklearn.preprocessing import StandardScaler\n",
        "from sklearn.metrics import accuracy_score\n",
        "from sklearn.metrics import roc_curve,roc_auc_score\n",
        "from matplotlib.colors import ListedColormap\n",
        "from sklearn.neighbors import KNeighborsClassifier\n",
        "from sklearn.neighbors import DistanceMetric\n",
        "from sklearn.metrics import classification_report\n",
        "from sklearn import svm\n",
        "from sklearn import decomposition\n",
        "from sklearn.metrics import f1_score\n",
        "from sklearn.neural_network import MLPClassifier"
      ],
      "execution_count": null,
      "outputs": []
    },
    {
      "cell_type": "markdown",
      "metadata": {
        "id": "mqFT0AlqCpS2"
      },
      "source": [
        "2. Leer la base de datos:\n",
        "\n",
        "A partir de la pagina web se obtiene la tabla HEART.XLSX, esta contiene todos los datos adquiridos para realizar el entrenamiento de todos los algoritmos. "
      ]
    },
    {
      "cell_type": "code",
      "metadata": {
        "colab": {
          "base_uri": "https://localhost:8080/"
        },
        "id": "jKHJXsm0DN4R",
        "outputId": "f919cf56-881a-492f-d1dd-4fe4c23a5978"
      },
      "source": [
        "#Heart\n",
        "df=pd.read_csv(\"heart.csv\", sep=',',header=0)\n",
        "y=df.iloc[:,13:14]\n",
        "Y = y.to_numpy()\n",
        "H=df.iloc[:,0:13]\n",
        "X=H.values\n",
        "print(\"Y: \\n\", Y.T, Y.shape)\n",
        "print(\"X: \\n\", X, X.shape)\n"
      ],
      "execution_count": null,
      "outputs": [
        {
          "output_type": "stream",
          "text": [
            "Y: \n",
            " [[1 1 1 1 1 1 1 1 1 1 1 1 1 1 1 1 1 1 1 1 1 1 1 1 1 1 1 1 1 1 1 1 1 1 1 1\n",
            "  1 1 1 1 1 1 1 1 1 1 1 1 1 1 1 1 1 1 1 1 1 1 1 1 1 1 1 1 1 1 1 1 1 1 1 1\n",
            "  1 1 1 1 1 1 1 1 1 1 1 1 1 1 1 1 1 1 1 1 1 1 1 1 1 1 1 1 1 1 1 1 1 1 1 1\n",
            "  1 1 1 1 1 1 1 1 1 1 1 1 1 1 1 1 1 1 1 1 1 1 1 1 1 1 1 1 1 1 1 1 1 1 1 1\n",
            "  1 1 1 1 1 1 1 1 1 1 1 1 1 1 1 1 1 1 1 1 1 0 0 0 0 0 0 0 0 0 0 0 0 0 0 0\n",
            "  0 0 0 0 0 0 0 0 0 0 0 0 0 0 0 0 0 0 0 0 0 0 0 0 0 0 0 0 0 0 0 0 0 0 0 0\n",
            "  0 0 0 0 0 0 0 0 0 0 0 0 0 0 0 0 0 0 0 0 0 0 0 0 0 0 0 0 0 0 0 0 0 0 0 0\n",
            "  0 0 0 0 0 0 0 0 0 0 0 0 0 0 0 0 0 0 0 0 0 0 0 0 0 0 0 0 0 0 0 0 0 0 0 0\n",
            "  0 0 0 0 0 0 0 0 0 0 0 0 0 0 0]] (303, 1)\n",
            "X: \n",
            " [[63.  1.  3. ...  0.  0.  1.]\n",
            " [37.  1.  2. ...  0.  0.  2.]\n",
            " [41.  0.  1. ...  2.  0.  2.]\n",
            " ...\n",
            " [68.  1.  0. ...  1.  2.  3.]\n",
            " [57.  1.  0. ...  1.  1.  3.]\n",
            " [57.  0.  1. ...  1.  1.  2.]] (303, 13)\n"
          ],
          "name": "stdout"
        }
      ]
    },
    {
      "cell_type": "markdown",
      "metadata": {
        "id": "pG1Nggg8RsiO"
      },
      "source": [
        "3. Preprocesar los datos:\n",
        "\n",
        "Este dataset no requiere preprocesamiento ya que no hace falta ningún dato en ninguna columna, además de esto todos los datos son numéricos."
      ]
    },
    {
      "cell_type": "markdown",
      "metadata": {
        "id": "FcaF3xF5V386"
      },
      "source": [
        "4. Escalizar los datos:\n",
        "Se realiza una escalización a los datos para facilitar su procesamiento y se divide el dataset entre entrenamiento y validación."
      ]
    },
    {
      "cell_type": "code",
      "metadata": {
        "colab": {
          "base_uri": "https://localhost:8080/"
        },
        "id": "s1jY8pObWPkr",
        "outputId": "d87bdb76-e534-4e43-bcec-f9c2fee03193"
      },
      "source": [
        "#scaler = StandardScaler()\n",
        "scaler = sklearn.preprocessing.MinMaxScaler(feature_range = (-1,1))\n",
        "scaler.fit(X)\n",
        "X_scaled = scaler.transform(X)\n",
        "print(X_scaled)\n",
        "df = pd.DataFrame(X_scaled)\n",
        "df.to_csv('/content/example.csv')\n"
      ],
      "execution_count": null,
      "outputs": [
        {
          "output_type": "stream",
          "text": [
            "[[ 0.41666667  1.          1.         ... -1.         -1.\n",
            "  -0.33333333]\n",
            " [-0.66666667  1.          0.33333333 ... -1.         -1.\n",
            "   0.33333333]\n",
            " [-0.5        -1.         -0.33333333 ...  1.         -1.\n",
            "   0.33333333]\n",
            " ...\n",
            " [ 0.625       1.         -1.         ...  0.          0.\n",
            "   1.        ]\n",
            " [ 0.16666667  1.         -1.         ...  0.         -0.5\n",
            "   1.        ]\n",
            " [ 0.16666667 -1.         -0.33333333 ...  0.         -0.5\n",
            "   0.33333333]]\n"
          ],
          "name": "stdout"
        }
      ]
    },
    {
      "cell_type": "markdown",
      "metadata": {
        "id": "ya5SbC2exuYU"
      },
      "source": [
        "5. Aplicar PCA"
      ]
    },
    {
      "cell_type": "code",
      "metadata": {
        "colab": {
          "base_uri": "https://localhost:8080/"
        },
        "id": "TpWetm-dxxrV",
        "outputId": "cec5ac00-bcb8-43a0-bcec-f144593d7638"
      },
      "source": [
        "pca = decomposition.PCA(n_components=13, svd_solver='full')\n",
        "pca.fit(X_scaled)\n",
        "X_train_pca = pca.transform(X_scaled)\n",
        "print(\"varianza explicada por cada caracteristica después de PCA:\",pca.explained_variance_ratio_)\n",
        "print(sum(pca.explained_variance_ratio_[0:13]))\n",
        "print(X_train_pca)\n",
        "X_train, X_test, y_train, y_test = train_test_split(X_train_pca, Y, random_state=0)\n",
        "df = pd.DataFrame(X_train_pca)\n",
        "df.to_csv('/content/example2.csv')"
      ],
      "execution_count": null,
      "outputs": [
        {
          "output_type": "stream",
          "text": [
            "varianza explicada por cada caracteristica después de PCA: [0.27038127 0.18743662 0.1252547  0.08969606 0.08284437 0.06152327\n",
            " 0.05556614 0.03414654 0.03067008 0.02228809 0.01599219 0.01391614\n",
            " 0.01028452]\n",
            "1.0\n",
            "[[-3.56685952e-01 -9.16650052e-01  2.27444362e+00 ...  6.43308211e-04\n",
            "   2.24990406e-01 -3.78961214e-02]\n",
            " [-2.69506036e-01 -7.70383054e-01 -9.59797860e-03 ...  1.88410635e-01\n",
            "   3.23275311e-01  1.14755882e-01]\n",
            " [-1.32010981e+00  8.60091180e-01 -3.33140590e-01 ...  4.65883762e-01\n",
            "  -1.85332693e-01 -1.83127301e-01]\n",
            " ...\n",
            " [ 4.17684189e-01 -6.49213478e-01  1.59278872e+00 ...  3.93475920e-01\n",
            "   1.11285651e-01 -3.33687570e-01]\n",
            " [ 1.71774642e+00  1.08782776e-01 -4.47319563e-01 ... -1.41552507e-01\n",
            "  -3.84439722e-01 -3.81806614e-01]\n",
            " [-1.07095748e+00  1.02667002e+00  2.00850582e-02 ... -4.43390566e-01\n",
            "   1.46015653e-01 -2.29543583e-01]]\n"
          ],
          "name": "stdout"
        }
      ]
    },
    {
      "cell_type": "markdown",
      "metadata": {
        "id": "V2lJRDVmNA1c"
      },
      "source": [
        "LOGISTIC REGRESSION"
      ]
    },
    {
      "cell_type": "markdown",
      "metadata": {
        "id": "HL46Geu6NBho"
      },
      "source": [
        "1. Utilizando el conjunto de entrenamiento, se emplea la función LogisticRegression y se prueba con diferentes parámetros y configuraciones que permitan mejorar las metricas de evaluación del modelo.\n",
        "\n"
      ]
    },
    {
      "cell_type": "markdown",
      "metadata": {
        "id": "qNoK3deGFXer"
      },
      "source": [
        "1.1 Se utiliza un for para iterar entre valores de C (regularización) e iteraciones, a partir de los datos que retorne este ciclo se realiza la configuración de los parámetros del algoritmo."
      ]
    },
    {
      "cell_type": "code",
      "metadata": {
        "colab": {
          "base_uri": "https://localhost:8080/"
        },
        "id": "5mPekmltNvSk",
        "outputId": "aa03595e-e3a4-427e-fbcc-744778823b42"
      },
      "source": [
        "corcoef = []\n",
        "regularization = []\n",
        "iter = []\n",
        "for C in np.linspace(0.1,10,100):\n",
        "  clf = LogisticRegression(penalty='l2',max_iter=10000,random_state=0, C = C, class_weight = 'balanced', solver = 'liblinear').fit(X_train, np.ravel(y_train))\n",
        "  y_test_predicted = clf.predict(X_test)\n",
        "  y_test_scores = clf.predict_proba(X_test)\n",
        "  corcoef.append(matthews_corrcoef(y_test, y_test_predicted))\n",
        "  regularization.append(C)\n",
        "max_score = max(corcoef)\n",
        "best_C = corcoef.index(max_score)\n",
        "print(max_score)\n",
        "print(regularization[best_C])"
      ],
      "execution_count": null,
      "outputs": [
        {
          "output_type": "stream",
          "text": [
            "0.6517059369140351\n",
            "3.4000000000000004\n"
          ],
          "name": "stdout"
        }
      ]
    },
    {
      "cell_type": "code",
      "metadata": {
        "colab": {
          "base_uri": "https://localhost:8080/"
        },
        "id": "Xre6XVDiEaYz",
        "outputId": "377ace6a-1821-4603-bdc0-6411beb1c725"
      },
      "source": [
        "clf = LogisticRegression(penalty='l2',max_iter=1000,random_state=0, C = 3.4, class_weight = \"balanced\", solver = 'liblinear').fit(X_train, np.ravel(y_train))\n",
        "y_test_predicted = clf.predict(X_test)\n",
        "y_test_scores = clf.predict_proba(X_test)\n",
        "print('Correlación', matthews_corrcoef(y_test, y_test_predicted))"
      ],
      "execution_count": null,
      "outputs": [
        {
          "output_type": "stream",
          "text": [
            "Correlación 0.6517059369140351\n"
          ],
          "name": "stdout"
        }
      ]
    },
    {
      "cell_type": "markdown",
      "metadata": {
        "id": "G0pwvenNH7AV"
      },
      "source": [
        "1.2 Se obtienen las metricas"
      ]
    },
    {
      "cell_type": "code",
      "metadata": {
        "colab": {
          "base_uri": "https://localhost:8080/",
          "height": 363
        },
        "id": "RAOCOe47Ht7J",
        "outputId": "e1ca1ff2-c538-4b55-e6d6-ac0dadfe80b5"
      },
      "source": [
        "print('Accuracy of LR classifier on training set: {:.2f}'\n",
        "    .format(clf.score(X_train, np.ravel(y_train))))\n",
        "print('Accuracy of LR classifier on test set: {:.2f}'\n",
        "    .format(clf.score(X_test, np.ravel(y_test))))\n",
        "\n",
        "y_test_predicted = clf.predict(X_test)\n",
        "y_test_scores = clf.predict_proba(X_test)\n",
        "print('coeficiente de matthews: '+ str(matthews_corrcoef(y_test, y_test_predicted)))\n",
        "ACC = accuracy_score(y_test, y_test_predicted)\n",
        "#print(\"Accuracy\", ACC)\n",
        "print(\"F1 Score: \", f1_score(y_test, y_test_predicted, average='micro'))\n",
        "fpr,tpr,thresholds = roc_curve(y_test, y_test_scores[:,1])\n",
        "roc_auc=roc_auc_score(y_test, y_test_scores[:,1])\n",
        "plt.figure()\n",
        "lw = 2\n",
        "plt.plot(fpr, tpr, color='darkorange',lw=lw, label='ROC curve (area = %0.2f)' % roc_auc)\n",
        "plt.plot([0, 1], [0, 1], color='navy', lw=lw, linestyle='--')\n",
        "plt.xlim([0.0, 1.0])\n",
        "plt.ylim([0.0, 1.05])\n",
        "plt.xlabel('False Positive Rate')\n",
        "plt.ylabel('True Positive Rate')\n",
        "plt.title('Receiver operating characteristic. ROC')\n",
        "plt.legend(loc=\"lower right\")\n",
        "plt.show()"
      ],
      "execution_count": null,
      "outputs": [
        {
          "output_type": "stream",
          "text": [
            "Accuracy of LR classifier on training set: 0.85\n",
            "Accuracy of LR classifier on test set: 0.83\n",
            "coeficiente de matthews: 0.6517059369140351\n",
            "F1 Score:  0.8289473684210527\n"
          ],
          "name": "stdout"
        },
        {
          "output_type": "display_data",
          "data": {
            "image/png": "[encoded data removed]",
            "text/plain": [
              "<Figure size 432x288 with 1 Axes>"
            ]
          },
          "metadata": {
            "tags": [],
            "needs_background": "light"
          }
        }
      ]
    },
    {
      "cell_type": "markdown",
      "metadata": {
        "id": "3vsFiThXCI5a"
      },
      "source": [
        "Observamos que el clasificador lineal retorna unos datos bastante buenos, la correlación en este caso ronda los 0.65 en el conjunto de testing, al ser mayor a 0.5 este indica que las predicciones son bastante acertadas, además al observar tanto el valor de F1 como la curva ROC se determina un muy buen funcionamiento por parte de este modelo LR. Nótese que el Accuracy tanto para el training como para el test son bastante similares, esto nos permite determinar si el algoritmo está sobreentrenado, en este caso funciona bien manteniendo unos valores cercanos entre entrenamiento y pruebas."
      ]
    },
    {
      "cell_type": "markdown",
      "metadata": {
        "id": "ggXpaEHdOFLe"
      },
      "source": [
        "KNN\n"
      ]
    },
    {
      "cell_type": "markdown",
      "metadata": {
        "id": "1R8XFfhPaebA"
      },
      "source": [
        "1. Se procede a realizar el calculo de el mejor K y la mejor distancia para nuestro modelo."
      ]
    },
    {
      "cell_type": "markdown",
      "metadata": {
        "id": "VAI9REbv0AVH"
      },
      "source": [
        "Para ello se varían los siguientes parametros:\n",
        "Distance = Minkowski, euclidean, manhattan, chebyshev, seuclidean, mahalanobis\n",
        "\n",
        "weights = Uniform, distance\n",
        "\n",
        "n_neighbors = rango ajustable, se realizan pruebas de 1 a 20 y se escoge el mejor \n",
        "\n",
        "Se crea un for que permite iterar entre la cantidad de vecinos, se varía cada parametro para probar su eficiencia y se imprime el score y el K que lo optimiza para cada uno, se van registrando los datos del K y el score uno por uno hasta llegar a los mejores hiperparametros para configurar el clasificador.\n",
        "\n",
        "\n",
        "\n"
      ]
    },
    {
      "cell_type": "code",
      "metadata": {
        "colab": {
          "base_uri": "https://localhost:8080/",
          "height": 449
        },
        "id": "ZBys9LLQ1bPB",
        "outputId": "02f8afbb-af66-42ef-ea7a-5a03bbcd1d34"
      },
      "source": [
        "k_range = range(1, 50)\n",
        "scores = []\n",
        "distance=['minkowski','euclidean','manhattan','chebyshev','seuclidean','mahalanobis']\n",
        "for k in k_range:\n",
        "    knn = KNeighborsClassifier(n_neighbors = k,weights='distance',metric=distance[1], metric_params=None,algorithm='auto')\n",
        "    knn.fit(X_train, np.ravel(y_train))\n",
        "    scores.append(knn.score(X_test, y_test))\n",
        "max_score = max(scores)\n",
        "best_k = scores.index(max_score)+1\n",
        "print(\"max_score\",max_score)\n",
        "print(\"best_k\",best_k)\n",
        "plt.figure()\n",
        "plt.xlabel('k')\n",
        "plt.scatter(k_range, scores)\n",
        "plt.xticks([0,5,10,15,20])\n",
        "\n",
        "print('minkowski-distance - K=4 SCORE=0.868421')\n",
        "print('minkowski-uniform - K=4 SCORE=0.881578')\n",
        "\n",
        "print('euclidean-distance - K=4 SCORE=0.868421')\n",
        "print('euclidean-uniform - K=4 SCORE=0.881578')\n",
        "\n",
        "print('manhattan-distance - K=6 SCORE=0.855263')\n",
        "print('manhattan-uniform - K=4 SCORE=0.855263')\n",
        "\n",
        "print('chebyshev-distance - K=3 SCORE=0.842105')\n",
        "print('chebyshev-uniform - K=3 SCORE=0.842105')"
      ],
      "execution_count": null,
      "outputs": [
        {
          "output_type": "stream",
          "text": [
            "max_score 0.868421052631579\n",
            "best_k 4\n",
            "minkowski-distance - K=4 SCORE=0.868421\n",
            "minkowski-uniform - K=4 SCORE=0.881578\n",
            "euclidean-distance - K=4 SCORE=0.868421\n",
            "euclidean-uniform - K=4 SCORE=0.881578\n",
            "manhattan-distance - K=6 SCORE=0.855263\n",
            "manhattan-uniform - K=4 SCORE=0.855263\n",
            "chebyshev-distance - K=3 SCORE=0.842105\n",
            "chebyshev-uniform - K=3 SCORE=0.842105\n"
          ],
          "name": "stdout"
        },
        {
          "output_type": "display_data",
          "data": {
            "image/png": "[encoded data removed]",
            "text/plain": [
              "<Figure size 432x288 with 1 Axes>"
            ]
          },
          "metadata": {
            "tags": [],
            "needs_background": "light"
          }
        }
      ]
    },
    {
      "cell_type": "markdown",
      "metadata": {
        "id": "m19xC39RHhuc"
      },
      "source": [
        "3. Se elige entonces minkowski uniform con k = 4 y se emplea el clasificador. Se observa entonces el mcc y F1 tanto en train como en test.\n",
        "\n",
        "\n"
      ]
    },
    {
      "cell_type": "code",
      "metadata": {
        "colab": {
          "base_uri": "https://localhost:8080/",
          "height": 363
        },
        "id": "tc2x5B9sHoKh",
        "outputId": "a16884d5-feb7-4596-acd9-c0166544da93"
      },
      "source": [
        "n_neighbors = 4\n",
        "distance=['minkowski','euclidean','manhattan','chebyshev','seuclidean','mahalanobis']\n",
        "\n",
        "knn = KNeighborsClassifier(n_neighbors,weights='uniform',metric=distance[0], metric_params=None,algorithm='auto')\n",
        "knn.fit(X_train, np.ravel(y_train))\n",
        "\n",
        "print('Accuracy of K-NN classifier on training set: {:.2f}'\n",
        "    .format(knn.score(X_train, np.ravel(y_train))))\n",
        "print('Accuracy of K-NN classifier on test set: {:.2f}'\n",
        "    .format(knn.score(X_test, np.ravel(y_test))))\n",
        "\n",
        "y_test_predicted = knn.predict(X_test)\n",
        "y_test_scores = knn.predict_proba(X_test)\n",
        "print('coeficiente de matthews: '+ str(matthews_corrcoef(y_test, y_test_predicted)))\n",
        "ACC = accuracy_score(y_test, y_test_predicted)\n",
        "#print(\"Accuracy\", ACC)\n",
        "print(\"F1 Score: \", f1_score(y_test, y_test_predicted, average='micro'))\n",
        "fpr,tpr,thresholds = roc_curve(y_test, y_test_scores[:,1])\n",
        "roc_auc=roc_auc_score(y_test, y_test_scores[:,1])\n",
        "plt.figure()\n",
        "lw = 2\n",
        "plt.plot(fpr, tpr, color='darkorange',lw=lw, label='ROC curve (area = %0.2f)' % roc_auc)\n",
        "plt.plot([0, 1], [0, 1], color='navy', lw=lw, linestyle='--')\n",
        "plt.xlim([0.0, 1.0])\n",
        "plt.ylim([0.0, 1.05])\n",
        "plt.xlabel('False Positive Rate')\n",
        "plt.ylabel('True Positive Rate')\n",
        "plt.title('Receiver operating characteristic. ROC')\n",
        "plt.legend(loc=\"lower right\")\n",
        "plt.show()"
      ],
      "execution_count": null,
      "outputs": [
        {
          "output_type": "stream",
          "text": [
            "Accuracy of K-NN classifier on training set: 0.85\n",
            "Accuracy of K-NN classifier on test set: 0.88\n",
            "coeficiente de matthews: 0.7601021471234662\n",
            "F1 Score:  0.881578947368421\n"
          ],
          "name": "stdout"
        },
        {
          "output_type": "display_data",
          "data": {
            "image/png": "[encoded data removed]",
            "text/plain": [
              "<Figure size 432x288 with 1 Axes>"
            ]
          },
          "metadata": {
            "tags": [],
            "needs_background": "light"
          }
        }
      ]
    },
    {
      "cell_type": "markdown",
      "metadata": {
        "id": "Ix7UMaGQKzdZ"
      },
      "source": [
        "# Redes neuronales perceptron multicapa\n"
      ]
    },
    {
      "cell_type": "markdown",
      "metadata": {
        "id": "p5XA6l-CK0up"
      },
      "source": [
        "\n",
        "\n",
        "1.   Se realiza la identificación del mejor solver y la mejor activación.\n",
        "\n"
      ]
    },
    {
      "cell_type": "code",
      "metadata": {
        "colab": {
          "base_uri": "https://localhost:8080/"
        },
        "id": "LSLN5dlfKzLG",
        "outputId": "56b52eaf-660e-4113-86f7-b5f4450a649a"
      },
      "source": [
        "solvers = [\"lbfgs\", \"sgd\",\"adam\"]\n",
        "activations =['identity', 'logistic', 'tanh', 'relu']\n",
        "scores=[]\n",
        "\n",
        "\n",
        "for z in activations:\n",
        "  clf = MLPClassifier(random_state=1, max_iter=10000, solver=solvers[0], activation=z).fit(X_train, np.ravel(y_train))\n",
        "  scores.append(clf.score(X_test, y_test))\n",
        "#clf.score(X_test, y_test)\n",
        "max_score = max(scores)\n",
        "best_act = scores.index(max_score)\n",
        "print(\"max_score\",max_score)\n",
        "print(\"best_Activation\",best_act)"
      ],
      "execution_count": null,
      "outputs": [
        {
          "output_type": "stream",
          "text": [
            "max_score 0.8552631578947368\n",
            "best_Activation 1\n"
          ],
          "name": "stdout"
        }
      ]
    },
    {
      "cell_type": "markdown",
      "metadata": {
        "id": "joDCSY_RZGDd"
      },
      "source": [
        "\n",
        "2.   Ya con el mejor solver y la mejor activación, se busca el mejor tamaño de capas.\n",
        "\n"
      ]
    },
    {
      "cell_type": "code",
      "metadata": {
        "colab": {
          "base_uri": "https://localhost:8080/"
        },
        "id": "L77uvTICLznT",
        "outputId": "3139e62b-afbf-4ab4-83dc-d2b07ebe75b2"
      },
      "source": [
        "solvers = [\"lbfgs\", \"sgd\",\"adam\"]\n",
        "activations =['identity', 'logistic', 'tanh', 'relu']\n",
        "scores=[]\n",
        "\n",
        "for z in range(1,20):\n",
        "  clf = MLPClassifier(random_state=1, max_iter=10000, solver=solvers[0], activation=activations[1], hidden_layer_sizes=(5, z)).fit(X_train, np.ravel(y_train))\n",
        "  scores.append(clf.score(X_test, y_test))\n",
        "#clf.score(X_test, y_test)\n",
        "max_score = max(scores)\n",
        "best_lay = scores.index(max_score)+1\n",
        "print(\"max_score\",max_score)\n",
        "print(\"best_Layer\",best_lay)"
      ],
      "execution_count": null,
      "outputs": [
        {
          "output_type": "stream",
          "text": [
            "max_score 0.868421052631579\n",
            "best_Layer 6\n"
          ],
          "name": "stdout"
        }
      ]
    },
    {
      "cell_type": "markdown",
      "metadata": {
        "id": "x1a9gdLCZRUU"
      },
      "source": [
        "\n",
        "\n",
        "3.   Por ultimo se evalua el learning rate para encontrar el mejor.\n",
        "\n",
        "\n"
      ]
    },
    {
      "cell_type": "markdown",
      "metadata": {
        "id": "wW_PfkXTZRMz"
      },
      "source": [
        ""
      ]
    },
    {
      "cell_type": "code",
      "metadata": {
        "colab": {
          "base_uri": "https://localhost:8080/"
        },
        "id": "lXTlvjJVPGed",
        "outputId": "edb7e7d0-ded2-47d3-9741-2b56b48d033d"
      },
      "source": [
        "solvers = [\"lbfgs\", \"sgd\",\"adam\"]\n",
        "activations =['identity', 'logistic', 'tanh', 'relu']\n",
        "learnn=[\"constant\",\"invscaling\",\"adaptive\"]\n",
        "vec=[]\n",
        "scores=[]\n",
        "#lay = \n",
        "\n",
        "for z in np.linspace(0.001,0.1,100):\n",
        "  clf = MLPClassifier(random_state=1, max_iter=10000, solver=solvers[0], activation=activations[1], hidden_layer_sizes=(5, 6), learning_rate_init=z,learning_rate=learnn[2]).fit(X_train, np.ravel(y_train))\n",
        "  vec.append(z)\n",
        "  scores.append(clf.score(X_test, y_test))\n",
        "#clf.score(X_test, y_test)\n",
        "max_score = max(scores)\n",
        "best_learn = scores.index(max_score)\n",
        "print(\"max_score\",max_score)\n",
        "print(\"best_initiation\",best_learn)\n",
        "print(vec[best_Act])"
      ],
      "execution_count": null,
      "outputs": [
        {
          "output_type": "stream",
          "text": [
            "max_score 0.868421052631579\n",
            "best_Activation 0\n",
            "0.001\n"
          ],
          "name": "stdout"
        }
      ]
    },
    {
      "cell_type": "markdown",
      "metadata": {
        "id": "BTUP6iohXtAe"
      },
      "source": [
        "**constant LR**\n",
        "\n",
        "max_score 0.868421052631579\n",
        "\n",
        "best_Activation 0\n",
        "\n",
        "0.001\n",
        "\n",
        "**invscaling LR**\n",
        "\n",
        "max_score 0.868421052631579\n",
        "\n",
        "best_Activation 0\n",
        "\n",
        "0.001\n",
        "\n",
        "**adaptive LR**\n",
        "\n",
        "max_score 0.868421052631579\n",
        "\n",
        "best_Activation 0\n",
        "\n",
        "0.001\n"
      ]
    },
    {
      "cell_type": "markdown",
      "metadata": {
        "id": "_JoxgO65ZYu1"
      },
      "source": [
        "Como conclusión se encontro que el solver lbfgs, con una activasion logistica, con un learning rate de 0.001 nos da los siguientes valores de calificación:"
      ]
    },
    {
      "cell_type": "code",
      "metadata": {
        "colab": {
          "base_uri": "https://localhost:8080/",
          "height": 363
        },
        "id": "0gZWAM-CQ_KG",
        "outputId": "55fbd2d9-8608-4a29-fc16-6bcdf2a0e353"
      },
      "source": [
        "solvers = [\"lbfgs\", \"sgd\",\"adam\"]\n",
        "activations =['identity', 'logistic', 'tanh', 'relu']\n",
        "learnn=[\"constant\",\"invscaling\",\"adaptive\"]\n",
        "\n",
        "\n",
        "\n",
        "clf = MLPClassifier(random_state=1, max_iter=10000, solver=solvers[0], activation=activations[1], hidden_layer_sizes=(5, 6), learning_rate_init=0.001,learning_rate=learnn[2]).fit(X_train, np.ravel(y_train))\n",
        "\n",
        "print('Accuracy of MLPC classifier on training set: {:.2f}'\n",
        "    .format(clf.score(X_train, np.ravel(y_train))))\n",
        "print('Accuracy of MLPC classifier on test set: {:.2f}'\n",
        "    .format(clf.score(X_test, np.ravel(y_test))))\n",
        "\n",
        "y_test_predicted = clf.predict(X_test)\n",
        "y_test_scores = clf.predict_proba(X_test)\n",
        "print('coeficiente de matthews: '+ str(matthews_corrcoef(y_test, y_test_predicted)))\n",
        "ACC = accuracy_score(y_test, y_test_predicted)\n",
        "#print(\"Accuracy\", ACC)\n",
        "print(\"F1 Score: \", f1_score(y_test, y_test_predicted, average='micro'))\n",
        "fpr,tpr,thresholds = roc_curve(y_test, y_test_scores[:,1])\n",
        "roc_auc=roc_auc_score(y_test, y_test_scores[:,1])\n",
        "plt.figure()\n",
        "lw = 2\n",
        "plt.plot(fpr, tpr, color='darkorange',lw=lw, label='ROC curve (area = %0.2f)' % roc_auc)\n",
        "plt.plot([0, 1], [0, 1], color='navy', lw=lw, linestyle='--')\n",
        "plt.xlim([0.0, 1.0])\n",
        "plt.ylim([0.0, 1.05])\n",
        "plt.xlabel('False Positive Rate')\n",
        "plt.ylabel('True Positive Rate')\n",
        "plt.title('Receiver operating characteristic. ROC')\n",
        "plt.legend(loc=\"lower right\")\n",
        "plt.show()\n"
      ],
      "execution_count": null,
      "outputs": [
        {
          "output_type": "stream",
          "text": [
            "Accuracy of MLPC classifier on training set: 0.96\n",
            "Accuracy of MLPC classifier on test set: 0.87\n",
            "coeficiente de matthews: 0.7400679502291563\n",
            "F1 Score:  0.868421052631579\n"
          ],
          "name": "stdout"
        },
        {
          "output_type": "display_data",
          "data": {
            "image/png": "[encoded data removed]",
            "text/plain": [
              "<Figure size 432x288 with 1 Axes>"
            ]
          },
          "metadata": {
            "tags": [],
            "needs_background": "light"
          }
        }
      ]
    }
  ]
}